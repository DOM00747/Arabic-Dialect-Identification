{
  "cells": [
    {
      "cell_type": "code",
      "source": [
        "#importing libraries\n",
        "import numpy as np \n",
        "import pandas as pd\n",
        "from sklearn.model_selection import train_test_split\n",
        "from sklearn.feature_extraction.text import CountVectorizer\n",
        "from sklearn.feature_extraction.text import TfidfVectorizer\n",
        "from sklearn.feature_extraction.text import TfidfTransformer\n",
        "from sklearn.naive_bayes import MultinomialNB\n",
        "from sklearn.svm import SVC\n",
        "from sklearn.metrics import confusion_matrix\n",
        "from sklearn import metrics\n",
        "import nltk\n",
        "import re\n",
        "import string\n",
        "import nltk \n",
        "from nltk.tokenize import word_tokenize\n",
        "from nltk.corpus import stopwords\n",
        "from nltk.tokenize import word_tokenize\n",
        "from nltk.corpus import stopwords\n",
        "\n",
        "import pandas as pd\n",
        "import numpy as np\n",
        "from nltk.tokenize import word_tokenize\n",
        "from nltk import pos_tag\n",
        "from nltk.corpus import stopwords\n",
        "from nltk.stem import WordNetLemmatizer\n",
        "from sklearn.preprocessing import LabelEncoder\n",
        "from collections import defaultdict\n",
        "from nltk.corpus import wordnet as wn\n",
        "from sklearn.feature_extraction.text import TfidfVectorizer\n",
        "from sklearn import model_selection, svm\n",
        "from sklearn.metrics import accuracy_score\n",
        "from sklearn.model_selection import train_test_split\n",
        "from sklearn.linear_model import LogisticRegression\n",
        "from sklearn.metrics import f1_score\n",
        "from sklearn.tree import DecisionTreeClassifier\n"
      ],
      "metadata": {
        "id": "qSahUVnZww6q"
      },
      "execution_count": null,
      "outputs": []
    },
    {
      "cell_type": "code",
      "source": [
        ""
      ],
      "metadata": {
        "id": "T_-gSD0DwwyU"
      },
      "execution_count": null,
      "outputs": []
    },
    {
      "cell_type": "code",
      "source": [
        ""
      ],
      "metadata": {
        "id": "3zZoHbxtwwkz"
      },
      "execution_count": null,
      "outputs": []
    },
    {
      "cell_type": "code",
      "execution_count": null,
      "metadata": {
        "id": "P6zaf69d-6rb"
      },
      "outputs": [],
      "source": [
        "data = pd.read_csv('clean_final_df.csv' , lineterminator='\\n')"
      ]
    },
    {
      "cell_type": "code",
      "execution_count": null,
      "metadata": {
        "colab": {
          "base_uri": "https://localhost:8080/",
          "height": 206
        },
        "id": "rkOpefERAvkj",
        "outputId": "954e8216-127a-4f1a-f71d-b7158bb67ba7"
      },
      "outputs": [
        {
          "data": {
            "text/html": [
              "\n",
              "  <div id=\"df-7bbf7bd4-f951-4d46-a594-c4aeb0b80e6e\">\n",
              "    <div class=\"colab-df-container\">\n",
              "      <div>\n",
              "<style scoped>\n",
              "    .dataframe tbody tr th:only-of-type {\n",
              "        vertical-align: middle;\n",
              "    }\n",
              "\n",
              "    .dataframe tbody tr th {\n",
              "        vertical-align: top;\n",
              "    }\n",
              "\n",
              "    .dataframe thead th {\n",
              "        text-align: right;\n",
              "    }\n",
              "</style>\n",
              "<table border=\"1\" class=\"dataframe\">\n",
              "  <thead>\n",
              "    <tr style=\"text-align: right;\">\n",
              "      <th></th>\n",
              "      <th>id</th>\n",
              "      <th>dialect</th>\n",
              "      <th>tweet</th>\n",
              "    </tr>\n",
              "  </thead>\n",
              "  <tbody>\n",
              "    <tr>\n",
              "      <th>0</th>\n",
              "      <td>1175358310087892992</td>\n",
              "      <td>IQ</td>\n",
              "      <td>لكن بالنهاية .. ينتفض .. يغير .</td>\n",
              "    </tr>\n",
              "    <tr>\n",
              "      <th>1</th>\n",
              "      <td>1175416117793349632</td>\n",
              "      <td>IQ</td>\n",
              "      <td>يعني هذا محسوب على البشر .. حيونه ووحشيه .. و...</td>\n",
              "    </tr>\n",
              "    <tr>\n",
              "      <th>2</th>\n",
              "      <td>1175450108898565888</td>\n",
              "      <td>IQ</td>\n",
              "      <td>مبين من كلامه خليجي</td>\n",
              "    </tr>\n",
              "    <tr>\n",
              "      <th>3</th>\n",
              "      <td>1175471073770573824</td>\n",
              "      <td>IQ</td>\n",
              "      <td>يسلملي مرورك وروحك الحلوه</td>\n",
              "    </tr>\n",
              "    <tr>\n",
              "      <th>4</th>\n",
              "      <td>1175496913145217024</td>\n",
              "      <td>IQ</td>\n",
              "      <td>وين هل الغيبه  اخ محمد</td>\n",
              "    </tr>\n",
              "  </tbody>\n",
              "</table>\n",
              "</div>\n",
              "      <button class=\"colab-df-convert\" onclick=\"convertToInteractive('df-7bbf7bd4-f951-4d46-a594-c4aeb0b80e6e')\"\n",
              "              title=\"Convert this dataframe to an interactive table.\"\n",
              "              style=\"display:none;\">\n",
              "        \n",
              "  <svg xmlns=\"http://www.w3.org/2000/svg\" height=\"24px\"viewBox=\"0 0 24 24\"\n",
              "       width=\"24px\">\n",
              "    <path d=\"M0 0h24v24H0V0z\" fill=\"none\"/>\n",
              "    <path d=\"M18.56 5.44l.94 2.06.94-2.06 2.06-.94-2.06-.94-.94-2.06-.94 2.06-2.06.94zm-11 1L8.5 8.5l.94-2.06 2.06-.94-2.06-.94L8.5 2.5l-.94 2.06-2.06.94zm10 10l.94 2.06.94-2.06 2.06-.94-2.06-.94-.94-2.06-.94 2.06-2.06.94z\"/><path d=\"M17.41 7.96l-1.37-1.37c-.4-.4-.92-.59-1.43-.59-.52 0-1.04.2-1.43.59L10.3 9.45l-7.72 7.72c-.78.78-.78 2.05 0 2.83L4 21.41c.39.39.9.59 1.41.59.51 0 1.02-.2 1.41-.59l7.78-7.78 2.81-2.81c.8-.78.8-2.07 0-2.86zM5.41 20L4 18.59l7.72-7.72 1.47 1.35L5.41 20z\"/>\n",
              "  </svg>\n",
              "      </button>\n",
              "      \n",
              "  <style>\n",
              "    .colab-df-container {\n",
              "      display:flex;\n",
              "      flex-wrap:wrap;\n",
              "      gap: 12px;\n",
              "    }\n",
              "\n",
              "    .colab-df-convert {\n",
              "      background-color: #E8F0FE;\n",
              "      border: none;\n",
              "      border-radius: 50%;\n",
              "      cursor: pointer;\n",
              "      display: none;\n",
              "      fill: #1967D2;\n",
              "      height: 32px;\n",
              "      padding: 0 0 0 0;\n",
              "      width: 32px;\n",
              "    }\n",
              "\n",
              "    .colab-df-convert:hover {\n",
              "      background-color: #E2EBFA;\n",
              "      box-shadow: 0px 1px 2px rgba(60, 64, 67, 0.3), 0px 1px 3px 1px rgba(60, 64, 67, 0.15);\n",
              "      fill: #174EA6;\n",
              "    }\n",
              "\n",
              "    [theme=dark] .colab-df-convert {\n",
              "      background-color: #3B4455;\n",
              "      fill: #D2E3FC;\n",
              "    }\n",
              "\n",
              "    [theme=dark] .colab-df-convert:hover {\n",
              "      background-color: #434B5C;\n",
              "      box-shadow: 0px 1px 3px 1px rgba(0, 0, 0, 0.15);\n",
              "      filter: drop-shadow(0px 1px 2px rgba(0, 0, 0, 0.3));\n",
              "      fill: #FFFFFF;\n",
              "    }\n",
              "  </style>\n",
              "\n",
              "      <script>\n",
              "        const buttonEl =\n",
              "          document.querySelector('#df-7bbf7bd4-f951-4d46-a594-c4aeb0b80e6e button.colab-df-convert');\n",
              "        buttonEl.style.display =\n",
              "          google.colab.kernel.accessAllowed ? 'block' : 'none';\n",
              "\n",
              "        async function convertToInteractive(key) {\n",
              "          const element = document.querySelector('#df-7bbf7bd4-f951-4d46-a594-c4aeb0b80e6e');\n",
              "          const dataTable =\n",
              "            await google.colab.kernel.invokeFunction('convertToInteractive',\n",
              "                                                     [key], {});\n",
              "          if (!dataTable) return;\n",
              "\n",
              "          const docLinkHtml = 'Like what you see? Visit the ' +\n",
              "            '<a target=\"_blank\" href=https://colab.research.google.com/notebooks/data_table.ipynb>data table notebook</a>'\n",
              "            + ' to learn more about interactive tables.';\n",
              "          element.innerHTML = '';\n",
              "          dataTable['output_type'] = 'display_data';\n",
              "          await google.colab.output.renderOutput(dataTable, element);\n",
              "          const docLink = document.createElement('div');\n",
              "          docLink.innerHTML = docLinkHtml;\n",
              "          element.appendChild(docLink);\n",
              "        }\n",
              "      </script>\n",
              "    </div>\n",
              "  </div>\n",
              "  "
            ],
            "text/plain": [
              "                    id dialect  \\\n",
              "0  1175358310087892992      IQ   \n",
              "1  1175416117793349632      IQ   \n",
              "2  1175450108898565888      IQ   \n",
              "3  1175471073770573824      IQ   \n",
              "4  1175496913145217024      IQ   \n",
              "\n",
              "                                               tweet  \n",
              "0                    لكن بالنهاية .. ينتفض .. يغير .  \n",
              "1   يعني هذا محسوب على البشر .. حيونه ووحشيه .. و...  \n",
              "2                                مبين من كلامه خليجي  \n",
              "3                          يسلملي مرورك وروحك الحلوه  \n",
              "4                            وين هل الغيبه  اخ محمد   "
            ]
          },
          "execution_count": 2,
          "metadata": {},
          "output_type": "execute_result"
        }
      ],
      "source": [
        "\n",
        "data.head()"
      ]
    },
    {
      "cell_type": "code",
      "execution_count": null,
      "metadata": {
        "id": "hgv17X3PBTg6"
      },
      "outputs": [],
      "source": [
        ""
      ]
    },
    {
      "cell_type": "code",
      "execution_count": null,
      "metadata": {
        "id": "iHaxT4-ABZi2"
      },
      "outputs": [],
      "source": [
        "\n",
        "\n",
        "\n",
        "\n",
        "data['tokenized_tweets'] = data.apply(lambda row: nltk.word_tokenize(row['tweet']), axis=1)\n",
        "sw = stopwords.words('arabic')\n",
        "data['stopped_tweets'] = [i for i in data['tokenized_tweets'] if not i in sw]\n",
        "\n",
        "#iterate over the tokenized_tweets column\n",
        "len_tokens = []\n",
        "word_tokens = data['tokenized_tweets']\n",
        "for i in range(len(word_tokens)):\n",
        "  len_tokens.append(len(word_tokens[i]))\n",
        "\n",
        "data['n_tokens'] = len_tokens\n"
      ]
    },
    {
      "cell_type": "code",
      "execution_count": null,
      "metadata": {
        "colab": {
          "base_uri": "https://localhost:8080/",
          "height": 267
        },
        "id": "N97tTBw-Bd29",
        "outputId": "b6676da1-ddc5-46f7-b584-5d9d39b98637"
      },
      "outputs": [
        {
          "data": {
            "text/html": [
              "\n",
              "  <div id=\"df-bdf08c6c-6528-496e-91bd-a0e3e94cf180\">\n",
              "    <div class=\"colab-df-container\">\n",
              "      <div>\n",
              "<style scoped>\n",
              "    .dataframe tbody tr th:only-of-type {\n",
              "        vertical-align: middle;\n",
              "    }\n",
              "\n",
              "    .dataframe tbody tr th {\n",
              "        vertical-align: top;\n",
              "    }\n",
              "\n",
              "    .dataframe thead th {\n",
              "        text-align: right;\n",
              "    }\n",
              "</style>\n",
              "<table border=\"1\" class=\"dataframe\">\n",
              "  <thead>\n",
              "    <tr style=\"text-align: right;\">\n",
              "      <th></th>\n",
              "      <th>id</th>\n",
              "      <th>dialect</th>\n",
              "      <th>tweet</th>\n",
              "      <th>tokenized_tweets</th>\n",
              "      <th>stopped_tweets</th>\n",
              "      <th>n_tokens</th>\n",
              "    </tr>\n",
              "  </thead>\n",
              "  <tbody>\n",
              "    <tr>\n",
              "      <th>0</th>\n",
              "      <td>1175358310087892992</td>\n",
              "      <td>IQ</td>\n",
              "      <td>لكن بالنهاية .. ينتفض .. يغير .</td>\n",
              "      <td>[لكن, بالنهاية, .., ينتفض, .., يغير, .]</td>\n",
              "      <td>[لكن, بالنهاية, .., ينتفض, .., يغير, .]</td>\n",
              "      <td>7</td>\n",
              "    </tr>\n",
              "    <tr>\n",
              "      <th>1</th>\n",
              "      <td>1175416117793349632</td>\n",
              "      <td>IQ</td>\n",
              "      <td>يعني هذا محسوب على البشر .. حيونه ووحشيه .. و...</td>\n",
              "      <td>[يعني, هذا, محسوب, على, البشر, .., حيونه, ووحش...</td>\n",
              "      <td>[يعني, هذا, محسوب, على, البشر, .., حيونه, ووحش...</td>\n",
              "      <td>18</td>\n",
              "    </tr>\n",
              "    <tr>\n",
              "      <th>2</th>\n",
              "      <td>1175450108898565888</td>\n",
              "      <td>IQ</td>\n",
              "      <td>مبين من كلامه خليجي</td>\n",
              "      <td>[مبين, من, كلامه, خليجي]</td>\n",
              "      <td>[مبين, من, كلامه, خليجي]</td>\n",
              "      <td>4</td>\n",
              "    </tr>\n",
              "    <tr>\n",
              "      <th>3</th>\n",
              "      <td>1175471073770573824</td>\n",
              "      <td>IQ</td>\n",
              "      <td>يسلملي مرورك وروحك الحلوه</td>\n",
              "      <td>[يسلملي, مرورك, وروحك, الحلوه]</td>\n",
              "      <td>[يسلملي, مرورك, وروحك, الحلوه]</td>\n",
              "      <td>4</td>\n",
              "    </tr>\n",
              "    <tr>\n",
              "      <th>4</th>\n",
              "      <td>1175496913145217024</td>\n",
              "      <td>IQ</td>\n",
              "      <td>وين هل الغيبه  اخ محمد</td>\n",
              "      <td>[وين, هل, الغيبه, اخ, محمد]</td>\n",
              "      <td>[وين, هل, الغيبه, اخ, محمد]</td>\n",
              "      <td>5</td>\n",
              "    </tr>\n",
              "  </tbody>\n",
              "</table>\n",
              "</div>\n",
              "      <button class=\"colab-df-convert\" onclick=\"convertToInteractive('df-bdf08c6c-6528-496e-91bd-a0e3e94cf180')\"\n",
              "              title=\"Convert this dataframe to an interactive table.\"\n",
              "              style=\"display:none;\">\n",
              "        \n",
              "  <svg xmlns=\"http://www.w3.org/2000/svg\" height=\"24px\"viewBox=\"0 0 24 24\"\n",
              "       width=\"24px\">\n",
              "    <path d=\"M0 0h24v24H0V0z\" fill=\"none\"/>\n",
              "    <path d=\"M18.56 5.44l.94 2.06.94-2.06 2.06-.94-2.06-.94-.94-2.06-.94 2.06-2.06.94zm-11 1L8.5 8.5l.94-2.06 2.06-.94-2.06-.94L8.5 2.5l-.94 2.06-2.06.94zm10 10l.94 2.06.94-2.06 2.06-.94-2.06-.94-.94-2.06-.94 2.06-2.06.94z\"/><path d=\"M17.41 7.96l-1.37-1.37c-.4-.4-.92-.59-1.43-.59-.52 0-1.04.2-1.43.59L10.3 9.45l-7.72 7.72c-.78.78-.78 2.05 0 2.83L4 21.41c.39.39.9.59 1.41.59.51 0 1.02-.2 1.41-.59l7.78-7.78 2.81-2.81c.8-.78.8-2.07 0-2.86zM5.41 20L4 18.59l7.72-7.72 1.47 1.35L5.41 20z\"/>\n",
              "  </svg>\n",
              "      </button>\n",
              "      \n",
              "  <style>\n",
              "    .colab-df-container {\n",
              "      display:flex;\n",
              "      flex-wrap:wrap;\n",
              "      gap: 12px;\n",
              "    }\n",
              "\n",
              "    .colab-df-convert {\n",
              "      background-color: #E8F0FE;\n",
              "      border: none;\n",
              "      border-radius: 50%;\n",
              "      cursor: pointer;\n",
              "      display: none;\n",
              "      fill: #1967D2;\n",
              "      height: 32px;\n",
              "      padding: 0 0 0 0;\n",
              "      width: 32px;\n",
              "    }\n",
              "\n",
              "    .colab-df-convert:hover {\n",
              "      background-color: #E2EBFA;\n",
              "      box-shadow: 0px 1px 2px rgba(60, 64, 67, 0.3), 0px 1px 3px 1px rgba(60, 64, 67, 0.15);\n",
              "      fill: #174EA6;\n",
              "    }\n",
              "\n",
              "    [theme=dark] .colab-df-convert {\n",
              "      background-color: #3B4455;\n",
              "      fill: #D2E3FC;\n",
              "    }\n",
              "\n",
              "    [theme=dark] .colab-df-convert:hover {\n",
              "      background-color: #434B5C;\n",
              "      box-shadow: 0px 1px 3px 1px rgba(0, 0, 0, 0.15);\n",
              "      filter: drop-shadow(0px 1px 2px rgba(0, 0, 0, 0.3));\n",
              "      fill: #FFFFFF;\n",
              "    }\n",
              "  </style>\n",
              "\n",
              "      <script>\n",
              "        const buttonEl =\n",
              "          document.querySelector('#df-bdf08c6c-6528-496e-91bd-a0e3e94cf180 button.colab-df-convert');\n",
              "        buttonEl.style.display =\n",
              "          google.colab.kernel.accessAllowed ? 'block' : 'none';\n",
              "\n",
              "        async function convertToInteractive(key) {\n",
              "          const element = document.querySelector('#df-bdf08c6c-6528-496e-91bd-a0e3e94cf180');\n",
              "          const dataTable =\n",
              "            await google.colab.kernel.invokeFunction('convertToInteractive',\n",
              "                                                     [key], {});\n",
              "          if (!dataTable) return;\n",
              "\n",
              "          const docLinkHtml = 'Like what you see? Visit the ' +\n",
              "            '<a target=\"_blank\" href=https://colab.research.google.com/notebooks/data_table.ipynb>data table notebook</a>'\n",
              "            + ' to learn more about interactive tables.';\n",
              "          element.innerHTML = '';\n",
              "          dataTable['output_type'] = 'display_data';\n",
              "          await google.colab.output.renderOutput(dataTable, element);\n",
              "          const docLink = document.createElement('div');\n",
              "          docLink.innerHTML = docLinkHtml;\n",
              "          element.appendChild(docLink);\n",
              "        }\n",
              "      </script>\n",
              "    </div>\n",
              "  </div>\n",
              "  "
            ],
            "text/plain": [
              "                    id dialect  \\\n",
              "0  1175358310087892992      IQ   \n",
              "1  1175416117793349632      IQ   \n",
              "2  1175450108898565888      IQ   \n",
              "3  1175471073770573824      IQ   \n",
              "4  1175496913145217024      IQ   \n",
              "\n",
              "                                               tweet  \\\n",
              "0                    لكن بالنهاية .. ينتفض .. يغير .   \n",
              "1   يعني هذا محسوب على البشر .. حيونه ووحشيه .. و...   \n",
              "2                                مبين من كلامه خليجي   \n",
              "3                          يسلملي مرورك وروحك الحلوه   \n",
              "4                            وين هل الغيبه  اخ محمد    \n",
              "\n",
              "                                    tokenized_tweets  \\\n",
              "0            [لكن, بالنهاية, .., ينتفض, .., يغير, .]   \n",
              "1  [يعني, هذا, محسوب, على, البشر, .., حيونه, ووحش...   \n",
              "2                           [مبين, من, كلامه, خليجي]   \n",
              "3                     [يسلملي, مرورك, وروحك, الحلوه]   \n",
              "4                        [وين, هل, الغيبه, اخ, محمد]   \n",
              "\n",
              "                                      stopped_tweets  n_tokens  \n",
              "0            [لكن, بالنهاية, .., ينتفض, .., يغير, .]         7  \n",
              "1  [يعني, هذا, محسوب, على, البشر, .., حيونه, ووحش...        18  \n",
              "2                           [مبين, من, كلامه, خليجي]         4  \n",
              "3                     [يسلملي, مرورك, وروحك, الحلوه]         4  \n",
              "4                        [وين, هل, الغيبه, اخ, محمد]         5  "
            ]
          },
          "execution_count": 5,
          "metadata": {},
          "output_type": "execute_result"
        }
      ],
      "source": [
        "data.head()"
      ]
    },
    {
      "cell_type": "code",
      "execution_count": null,
      "metadata": {
        "colab": {
          "base_uri": "https://localhost:8080/"
        },
        "id": "qNaG2xmHB6H_",
        "outputId": "56bcf91f-eb7b-492f-d0cb-687a79fe71ac"
      },
      "outputs": [
        {
          "name": "stdout",
          "output_type": "stream",
          "text": [
            "Requirement already satisfied: scikit-learn in /usr/local/lib/python3.7/dist-packages (1.0.2)\n",
            "Requirement already satisfied: joblib>=0.11 in /usr/local/lib/python3.7/dist-packages (from scikit-learn) (1.1.0)\n",
            "Requirement already satisfied: numpy>=1.14.6 in /usr/local/lib/python3.7/dist-packages (from scikit-learn) (1.21.5)\n",
            "Requirement already satisfied: threadpoolctl>=2.0.0 in /usr/local/lib/python3.7/dist-packages (from scikit-learn) (3.1.0)\n",
            "Requirement already satisfied: scipy>=1.1.0 in /usr/local/lib/python3.7/dist-packages (from scikit-learn) (1.4.1)\n"
          ]
        }
      ],
      "source": [
        "pip install -U scikit-learn"
      ]
    },
    {
      "cell_type": "code",
      "execution_count": null,
      "metadata": {
        "id": "J_vqSf1Ik7yi"
      },
      "outputs": [],
      "source": [
        ""
      ]
    },
    {
      "cell_type": "code",
      "execution_count": null,
      "metadata": {
        "colab": {
          "base_uri": "https://localhost:8080/"
        },
        "id": "ghrz57oglB9y",
        "outputId": "0b83216e-9ee4-4112-f743-a6e4f9713042"
      },
      "outputs": [
        {
          "name": "stdout",
          "output_type": "stream",
          "text": [
            "n_samples: 320737, n_features: 420364\n",
            "n_samples: 137460, n_features: 420364\n",
            "              precision    recall  f1-score   support\n",
            "\n",
            "          IQ       0.71      0.13      0.22      7908\n",
            "          LY       0.74      0.08      0.14      7771\n",
            "          QA       0.90      0.16      0.27      4816\n",
            "          PL       0.35      0.98      0.51     17190\n",
            "          SY       0.95      0.09      0.16      4682\n",
            "          TN       0.78      0.06      0.10      8294\n",
            "          JO       0.29      0.80      0.42     12537\n",
            "          MA       0.82      0.41      0.55      8391\n",
            "          SA       0.67      0.58      0.62     11002\n",
            "          YE       0.99      0.19      0.32      3453\n",
            "          DZ       0.96      0.03      0.05      5807\n",
            "          EG       0.32      0.66      0.43     13192\n",
            "          LB       0.52      0.37      0.43      9210\n",
            "          KW       0.62      0.12      0.20      8052\n",
            "          OM       1.00      0.05      0.09      4392\n",
            "          SD       0.99      0.03      0.06      4977\n",
            "          AE       0.98      0.02      0.04      2786\n",
            "          BH       1.00      0.01      0.01      3000\n",
            "\n",
            "    accuracy                           0.39    137460\n",
            "   macro avg       0.75      0.26      0.26    137460\n",
            "weighted avg       0.64      0.39      0.33    137460\n",
            "\n",
            "test accuracy is : 0.3935035646733595\n",
            "train accuracy is :  0.504509925577654\n"
          ]
        }
      ],
      "source": [
        "X_train , X_test , y_train , y_test = train_test_split(data['tweet'] , data['dialect'] , test_size = 0.30 , random_state = 53)\n",
        "\n",
        "\n",
        "\n",
        "\n",
        "tf_idf = TfidfVectorizer()\n",
        "X_train_tf = tf_idf.fit_transform(X_train)\n",
        "X_train_tf = tf_idf.transform(X_train)\n",
        "print(\"n_samples: %d, n_features: %d\" % X_train_tf.shape)\n",
        "X_test_tf = tf_idf.transform(X_test)\n",
        "print(\"n_samples: %d, n_features: %d\" % X_test_tf.shape)\n",
        "\n",
        "\n",
        "NB_clf = MultinomialNB()\n",
        "NB_clf.fit(X_train_tf , y_train)\n",
        "y_pred = NB_clf.predict(X_test_tf)\n",
        "\n",
        "print(metrics.classification_report(y_test, y_pred, target_names=['IQ', 'LY', 'QA', 'PL'\n",
        ", 'SY', 'TN', 'JO', 'MA', 'SA', 'YE', 'DZ','EG', 'LB', 'KW', 'OM', 'SD', 'AE', 'BH']))\n",
        "\n",
        "test_acc = NB_clf.score(X_test_tf , y_test)\n",
        "print(\"test accuracy is :\" ,test_acc)\n",
        "train_acc = NB_clf.score(X_train_tf , y_train)\n",
        "print(\"train accuracy is : \" ,train_acc)"
      ]
    },
    {
      "cell_type": "code",
      "execution_count": null,
      "metadata": {
        "id": "dHfZkctSlNNn"
      },
      "outputs": [],
      "source": [
        ""
      ]
    },
    {
      "cell_type": "code",
      "execution_count": null,
      "metadata": {
        "id": "B0J2T-AGmGAB"
      },
      "outputs": [],
      "source": [
        "X_train , X_test , y_train , y_test = train_test_split(data['tweet'] , data['dialect'] , test_size = 0.25 , random_state = 53)\n"
      ]
    },
    {
      "cell_type": "code",
      "execution_count": null,
      "metadata": {
        "id": "yZ_AKYYW8YZ9"
      },
      "outputs": [],
      "source": [
        ""
      ]
    },
    {
      "cell_type": "code",
      "execution_count": null,
      "metadata": {
        "id": "6_Q3qX6smJGx"
      },
      "outputs": [],
      "source": [
        "encoder = LabelEncoder()\n",
        "y_train = encoder.fit_transform(y_train)\n",
        "y_test = encoder.fit_transform(y_test)"
      ]
    },
    {
      "cell_type": "code",
      "execution_count": null,
      "metadata": {
        "colab": {
          "base_uri": "https://localhost:8080/"
        },
        "id": "96tHQvh5mY8C",
        "outputId": "97fc13ee-c895-4d83-ce6b-bb5d5028b716"
      },
      "outputs": [
        {
          "name": "stdout",
          "output_type": "stream",
          "text": [
            "n_samples: 166143, n_features: 268405\n",
            "n_samples: 55382, n_features: 268405\n"
          ]
        }
      ],
      "source": [
        "tf_idf = TfidfVectorizer(decode_error='replace', encoding='utf-8')\n",
        "X_train_tf = tf_idf.fit_transform(X_train.values.astype('U'))\n",
        "X_train_tf = tf_idf.transform(X_train.values.astype('U'))\n",
        "print(\"n_samples: %d, n_features: %d\" % X_train_tf.shape)\n",
        "X_test_tf = tf_idf.transform(X_test.values.astype('U'))\n",
        "print(\"n_samples: %d, n_features: %d\" % X_test_tf.shape)\n"
      ]
    },
    {
      "cell_type": "code",
      "execution_count": null,
      "metadata": {
        "id": "cnQNPjIVm3Fg"
      },
      "outputs": [],
      "source": [
        ""
      ]
    },
    {
      "cell_type": "code",
      "execution_count": null,
      "metadata": {
        "colab": {
          "base_uri": "https://localhost:8080/"
        },
        "id": "ElGynPrzn8ae",
        "outputId": "8277d686-5787-4ce7-9741-d2aefb125d97"
      },
      "outputs": [
        {
          "data": {
            "text/plain": [
              "DecisionTreeClassifier()"
            ]
          },
          "execution_count": 12,
          "metadata": {},
          "output_type": "execute_result"
        }
      ],
      "source": [
        "DT_clf = DecisionTreeClassifier()\n",
        "DT_clf.fit(X_train_tf,y_train)"
      ]
    },
    {
      "cell_type": "code",
      "execution_count": null,
      "metadata": {
        "colab": {
          "base_uri": "https://localhost:8080/"
        },
        "id": "DQUJiI48oDiP",
        "outputId": "583bbaa7-cc43-4dbf-fe4a-ba255910b4e8"
      },
      "outputs": [
        {
          "name": "stdout",
          "output_type": "stream",
          "text": [
            "Accuracy Score: 0.2818419903972065\n"
          ]
        }
      ],
      "source": [
        "y_pred = DT_clf.predict(X_test_tf)#Accuracy\n",
        "from sklearn import metrics\n",
        "print('Accuracy Score:', metrics.accuracy_score(y_test,y_pred))"
      ]
    },
    {
      "cell_type": "code",
      "execution_count": null,
      "metadata": {
        "id": "GqXvhdNyoN0I"
      },
      "outputs": [],
      "source": [
        ""
      ]
    },
    {
      "cell_type": "code",
      "execution_count": null,
      "metadata": {
        "colab": {
          "base_uri": "https://localhost:8080/"
        },
        "id": "3mjw454LCEol",
        "outputId": "43bde137-5593-4aca-cc4e-0a69e5945888"
      },
      "outputs": [
        {
          "name": "stdout",
          "output_type": "stream",
          "text": [
            "[LibLinear]"
          ]
        }
      ],
      "source": [
        "# INIT LOGISTIC REGRESSION CLASSIFIER\n",
        "LG_clf = LogisticRegression(verbose=1, solver='liblinear',random_state=0, C=5, penalty='l2',max_iter=1000)\n",
        "model=LG_clf.fit(X_train_tf,y_train)\n"
      ]
    },
    {
      "cell_type": "code",
      "execution_count": null,
      "metadata": {
        "id": "QjKtd4h-CG5T"
      },
      "outputs": [],
      "source": [
        "probs = model.predict_proba(X_test_tf)"
      ]
    },
    {
      "cell_type": "code",
      "execution_count": null,
      "metadata": {
        "colab": {
          "base_uri": "https://localhost:8080/"
        },
        "id": "Mu4P1GjDursZ",
        "outputId": "9aeb1009-88b4-4843-b38a-df08c50f182b"
      },
      "outputs": [
        {
          "name": "stdout",
          "output_type": "stream",
          "text": [
            "[[4.25032648e-02 1.72774788e-02 4.05078869e-02 ... 3.05862901e-02\n",
            "  3.56566907e-03 2.33818905e-02]\n",
            " [3.79679497e-02 2.25849602e-01 1.87527336e-02 ... 1.84911857e-02\n",
            "  2.04128249e-02 6.82120716e-02]\n",
            " [2.15431667e-04 4.42995253e-04 4.29692487e-03 ... 5.42979287e-03\n",
            "  1.00118239e-02 7.85655113e-04]\n",
            " ...\n",
            " [1.09346757e-03 5.19091853e-03 1.89782989e-02 ... 1.19432755e-01\n",
            "  2.17459650e-02 1.65900337e-02]\n",
            " [1.09729704e-01 2.12055739e-01 1.09060456e-04 ... 3.82696128e-04\n",
            "  8.61914818e-04 4.01342510e-04]\n",
            " [9.62224527e-03 1.29063508e-02 9.96328730e-03 ... 3.58715115e-03\n",
            "  1.05925784e-02 9.74202983e-03]]\n"
          ]
        }
      ],
      "source": [
        "print(probs)"
      ]
    },
    {
      "cell_type": "code",
      "execution_count": null,
      "metadata": {
        "id": "v3DI28oXuxdx"
      },
      "outputs": [],
      "source": [
        ""
      ]
    },
    {
      "cell_type": "code",
      "execution_count": null,
      "metadata": {
        "id": "GHnUvIWpvD4C"
      },
      "outputs": [],
      "source": [
        "LG_y_pred = LG_clf.predict(X_test_tf)"
      ]
    },
    {
      "cell_type": "code",
      "execution_count": null,
      "metadata": {
        "colab": {
          "base_uri": "https://localhost:8080/"
        },
        "id": "WJZEzbEUvTaf",
        "outputId": "f681af0f-ad53-4a89-9e21-db404e417fc5"
      },
      "outputs": [
        {
          "name": "stdout",
          "output_type": "stream",
          "text": [
            "Accuracy Score: 0.5483020515058926\n"
          ]
        }
      ],
      "source": [
        "print('Accuracy Score:', metrics.accuracy_score(y_test,LG_y_pred))"
      ]
    },
    {
      "cell_type": "code",
      "execution_count": null,
      "metadata": {
        "id": "Uz-1X-a-vY3C"
      },
      "outputs": [],
      "source": [
        "predict_train = LG_clf.predict(X_train_tf)\n"
      ]
    },
    {
      "cell_type": "code",
      "execution_count": null,
      "metadata": {
        "id": "R19_wht8y5c_"
      },
      "outputs": [],
      "source": [
        "predict_test = LG_clf.predict(X_test_tf)\n"
      ]
    },
    {
      "cell_type": "code",
      "execution_count": null,
      "metadata": {
        "colab": {
          "base_uri": "https://localhost:8080/"
        },
        "id": "9l6EK339y_zZ",
        "outputId": "9168c4e3-3be4-42b8-92c5-f7574c392bb1"
      },
      "outputs": [
        {
          "data": {
            "text/plain": [
              "0.8850505230352816"
            ]
          },
          "execution_count": 35,
          "metadata": {},
          "output_type": "execute_result"
        }
      ],
      "source": [
        "f1_score(y_train  , predict_train , average='weighted')"
      ]
    },
    {
      "cell_type": "code",
      "execution_count": null,
      "metadata": {
        "colab": {
          "base_uri": "https://localhost:8080/"
        },
        "id": "QERMhyiNzGFS",
        "outputId": "7101d5c7-b060-47a8-c026-602ff797f159"
      },
      "outputs": [
        {
          "data": {
            "text/plain": [
              "0.5411556991388756"
            ]
          },
          "execution_count": 36,
          "metadata": {},
          "output_type": "execute_result"
        }
      ],
      "source": [
        "f1_score(y_test  , predict_test , average='weighted')"
      ]
    },
    {
      "cell_type": "code",
      "execution_count": null,
      "metadata": {
        "colab": {
          "base_uri": "https://localhost:8080/"
        },
        "id": "PqvxltE0zehs",
        "outputId": "ec2c07dd-66d9-4e6a-9e36-a19807f8cce5"
      },
      "outputs": [
        {
          "name": "stdout",
          "output_type": "stream",
          "text": [
            "              precision    recall  f1-score   support\n",
            "\n",
            "          IQ       0.44      0.43      0.44      6616\n",
            "          LY       0.39      0.34      0.36      6471\n",
            "          QA       0.65      0.53      0.59      4023\n",
            "          PL       0.70      0.87      0.78     14295\n",
            "          SY       0.68      0.54      0.60      3873\n",
            "          TN       0.42      0.35      0.39      6958\n",
            "          JO       0.47      0.60      0.53     10474\n",
            "          MA       0.63      0.67      0.65      7019\n",
            "          SA       0.66      0.71      0.68      9206\n",
            "          YE       0.78      0.57      0.66      2846\n",
            "          DZ       0.43      0.34      0.38      4900\n",
            "          EG       0.47      0.57      0.52     10893\n",
            "          LB       0.47      0.49      0.48      7637\n",
            "          KW       0.42      0.44      0.43      6735\n",
            "          OM       0.76      0.55      0.64      3654\n",
            "          SD       0.53      0.32      0.40      4169\n",
            "          AE       0.77      0.46      0.58      2318\n",
            "          BH       0.49      0.18      0.26      2463\n",
            "\n",
            "    accuracy                           0.55    114550\n",
            "   macro avg       0.56      0.50      0.52    114550\n",
            "weighted avg       0.55      0.55      0.54    114550\n",
            "\n"
          ]
        }
      ],
      "source": [
        "print(metrics.classification_report(y_test, LG_y_pred, target_names=['IQ', 'LY', 'QA', 'PL'\n",
        ", 'SY', 'TN', 'JO', 'MA', 'SA', 'YE', 'DZ','EG', 'LB', 'KW', 'OM', 'SD', 'AE', 'BH']))"
      ]
    }
  ],
  "metadata": {
    "colab": {
      "collapsed_sections": [],
      "name": "AIM_V1_ML.ipynb",
      "provenance": []
    },
    "kernelspec": {
      "display_name": "Python 3",
      "name": "python3"
    },
    "language_info": {
      "name": "python"
    }
  },
  "nbformat": 4,
  "nbformat_minor": 0
}